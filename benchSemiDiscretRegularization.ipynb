{
 "cells": [
  {
   "cell_type": "markdown",
   "metadata": {},
   "source": [
    "Unregularized vs Regularized for various epsilon"
   ]
  },
  {
   "cell_type": "code",
   "execution_count": 2,
   "metadata": {},
   "outputs": [],
   "source": [
    "import numpy as np\n",
    "import time\n",
    "import random\n",
    "import matplotlib.pyplot as plt\n",
    "from scipy.stats import norm\n",
    "from scipy.stats import multivariate_normal\n",
    "import matplotlib.cm as cm\n",
    "from scipy.interpolate import interp1d\n",
    "from mpl_toolkits.mplot3d import Axes3D\n",
    "from random import randint\n",
    "import sklearn as sk\n",
    "from sklearn.neighbors import NearestNeighbors\n",
    "from scipy.signal import convolve2d\n",
    "import sys"
   ]
  },
  {
   "cell_type": "markdown",
   "metadata": {},
   "source": [
    "Random Setting"
   ]
  },
  {
   "cell_type": "code",
   "execution_count": 3,
   "metadata": {},
   "outputs": [],
   "source": [
    "def sample_rho_batch(rho_list,nsamples):\n",
    "    sample = np.zeros([nsamples,D])\n",
    "    for i in range(nsamples):\n",
    "        rand = np.random.rand(1)\n",
    "        idx = int(np.floor(nrho * rand))\n",
    "        sample[i,:] = rho_list[idx].rvs()\n",
    "\n",
    "    return sample\n",
    "\n",
    "def sample_rho(rho_list):\n",
    "    rand = np.random.rand(1)\n",
    "    idx = int(np.floor(nrho * rand))\n",
    "    sample = rho_list[idx].rvs()\n",
    "\n",
    "    return sample"
   ]
  },
  {
   "cell_type": "markdown",
   "metadata": {},
   "source": [
    "Standard OT"
   ]
  },
  {
   "cell_type": "code",
   "execution_count": 4,
   "metadata": {},
   "outputs": [],
   "source": [
    "# def area(idx,rho,X,v):\n",
    "#     n_samples = 10**3\n",
    "#     Xv = np.c_[X,np.sqrt(-v-np.min(-v))]\n",
    "#     kdTree = NearestNeighbors(n_neighbors=1, algorithm='ball_tree').fit(Xv)\n",
    "#     sample_rho(rho_list)    \n",
    "#     if n_samples == 1:\n",
    "#         Yv = np.hstack([Y,0])\n",
    "#     else:\n",
    "#         Yv = np.c_[Y,np.zeros(n_samples)]    \n",
    "#     neighbors = kdTree.kneighbors(Yv,n_neighbors=1,return_distance=False)\n",
    "#     area = np.sum(neighbors == idx) / n_samples    \n",
    "#     return area\n",
    "\n",
    "def area_vect(rho,X,v,n_samples):\n",
    "    Xv = np.c_[X,np.sqrt(-v-np.min(-v))]\n",
    "    kdTree = NearestNeighbors(n_neighbors=1, algorithm='ball_tree').fit(Xv)\n",
    "    Y = sample_rho(rho_list)\n",
    "    if n_samples == 1:\n",
    "        Yv = np.reshape(np.hstack([Y,0]),[1,-1])\n",
    "    else:\n",
    "        Yv = np.c_[Y,np.zeros(n_samples)]\n",
    "    neighbors = kdTree.kneighbors(Yv,n_neighbors=1,return_distance=False)\n",
    "    area_vect = np.zeros(n_target)\n",
    "    for i in range(n_samples):\n",
    "        area_vect[neighbors[i]] += 1\n",
    "    area_vect = area_vect/n_samples   \n",
    "    return area_vect"
   ]
  },
  {
   "cell_type": "markdown",
   "metadata": {},
   "source": [
    "Regularized OT"
   ]
  },
  {
   "cell_type": "code",
   "execution_count": 5,
   "metadata": {},
   "outputs": [],
   "source": [
    "def gradient(v_eps,epsilon):\n",
    "    expv = np.zeros(n_target)\n",
    "    while np.sum(expv) == 0:\n",
    "        Y = sample_rho(rho_list)\n",
    "        z = np.max((v_eps-np.sum((X-Y)**2,axis=1))/epsilon)\n",
    "        expv = nu * np.exp((v_eps-np.sum((X-Y)**2,axis=1))/epsilon - z)\n",
    "        #z = np.max(v_eps-np.sum((X-Y)**2,axis=1)/epsilon)\n",
    "        #expv = nu * np.exp(v_eps-np.sum((X-Y)**2,axis=1)/epsilon - z)\n",
    "        #if np.sum(expv) == 0:\n",
    "        #print \"simulate again\"\n",
    "    pi = expv/np.sum(expv)\n",
    "    grad = - nu + pi\n",
    "    return grad\n"
   ]
  },
  {
   "cell_type": "code",
   "execution_count": 6,
   "metadata": {},
   "outputs": [],
   "source": [
    "def runSGD (epsilon,nb_iter) :\n",
    "    grad_type = \"one sample \"\n",
    "\n",
    "    alpha = .8\n",
    "    #alpha = 1./epsilon\n",
    "    n_eps = len(eps_list)\n",
    "\n",
    "\n",
    "    vlist = np.zeros([n_target,nb_iter])\n",
    "\n",
    "    v_eps_bar = np.ones(n_target)\n",
    "    v_eps = np.ones(n_target)\n",
    "\n",
    "    t = time.time()\n",
    "\n",
    "    for i in range(nb_iter) :\n",
    "        vlist[:,i] = v_eps_bar\n",
    "        #vlist[:,i] = epsilon * v_eps_bar\n",
    "        step = alpha*(1./np.sqrt(i+1))\n",
    "        grad = gradient(v_eps,epsilon)\n",
    "        v_eps = v_eps - step*grad\n",
    "        v_eps_bar = 1./(i+1)*(v_eps + i*v_eps_bar)\n",
    "\n",
    "    tt = time.time()-t\n",
    "\n",
    "    print (\"epsilon = \"+str(epsilon)+', time elapsed : '+str(tt))\n",
    "    return vlist"
   ]
  },
  {
   "cell_type": "code",
   "execution_count": 7,
   "metadata": {},
   "outputs": [],
   "source": [
    "def runBench(n_target, i_run, n_iter_comparaison, n_iter_SGD_opt):\n",
    "\n",
    "    # In[15]:\n",
    "\n",
    "    alpha = .8\n",
    "\n",
    "    nb_iter_unreg = n_iter_SGD_opt\n",
    "\n",
    "\n",
    "    v_bar = np.zeros(n_target)\n",
    "    v = np.zeros(n_target)\n",
    "    vlist = np.zeros([n_target,nb_iter_unreg])\n",
    "\n",
    "    t = time.time()\n",
    "    for i in range(nb_iter_unreg) :\n",
    "        vlist[:,i] = v_bar\n",
    "        n_samples = 1 \n",
    "        step = alpha*(1./np.sqrt(i+1))\n",
    "        grad = - nu + area_vect(rho,X,v,n_samples)\n",
    "        v = v - step*grad\n",
    "        v_bar = 1./(i+1)*(v + i*v_bar)\n",
    "\n",
    "    v_opt = v_bar\n",
    "\n",
    "    tt = time.time()-t\n",
    "\n",
    "    print ('Unregularized, time elapsed : '+str(tt))\n",
    "\n",
    "\n",
    "    n_it_SGD = n_iter_comparaison\n",
    "\n",
    "    v_SGD = np.zeros([n_target,n_it_SGD,n_eps])\n",
    "\n",
    "    for i in range(n_eps):\n",
    "        epsilon = eps_list[i]\n",
    "        v_SGD[:,:,i] = runSGD(epsilon,n_it_SGD)\n",
    "\n",
    "\n",
    "    kmax = np.shape(v_SGD)[1]\n",
    "    lmax = np.shape(vlist)[1]\n",
    "\n",
    "    n_size_err = min(kmax,lmax)\n",
    "\n",
    "\n",
    "    err_SGD = np.zeros([n_size_err,n_eps])\n",
    "    err_v = np.zeros(n_size_err)\n",
    "\n",
    "    for l in range(n_size_err):\n",
    "        err_v[l] = np.linalg.norm(vlist[:,l] - np.mean(vlist[:,l]) - v_opt + np.mean(v_opt))/np.linalg.norm(v_opt - np.mean(v_opt))\n",
    "\n",
    "    for i in range(n_eps):\n",
    "        epsilon = eps_list[i]\n",
    "        for k in range(n_size_err):\n",
    "            err_SGD[k,i] = np.linalg.norm(v_SGD[:,k,i]- np.mean(v_SGD[:,k,i]) - v_opt + np.mean(v_opt))/np.linalg.norm(v_opt-np.mean(v_opt))\n",
    "\n",
    "\n",
    "    filename_reg = \"/home/marco/temp/numpy_arrays/SemiDiscretRegularization/err_SGD_unreg_\"+str(i_run)+'_batch_'+str(arg)\n",
    "    np.save(filename_reg,err_v)\n",
    "\n",
    "\n",
    "    filename = \"/home/marco/temp/numpy_arrays/SemiDiscretRegularization/err_SGD_all_eps_\"+str(i_run)+'_batch_'+str(arg)\n",
    "    np.save(filename,err_SGD)"
   ]
  },
  {
   "cell_type": "markdown",
   "metadata": {},
   "source": [
    "SETTING "
   ]
  },
  {
   "cell_type": "code",
   "execution_count": 8,
   "metadata": {},
   "outputs": [
    {
     "name": "stdout",
     "output_type": "stream",
     "text": [
      "-------------    0   ----------\n"
     ]
    },
    {
     "ename": "KeyboardInterrupt",
     "evalue": "",
     "output_type": "error",
     "traceback": [
      "\u001b[0;31m---------------------------------------------------------------------------\u001b[0m",
      "\u001b[0;31mKeyboardInterrupt\u001b[0m                         Traceback (most recent call last)",
      "\u001b[0;32m/var/folders/cz/jd1nf4_j5_j6y5qdfp0qbmjh0000gn/T/ipykernel_2423/1910753975.py\u001b[0m in \u001b[0;36m<module>\u001b[0;34m\u001b[0m\n\u001b[1;32m     60\u001b[0m \u001b[0;34m\u001b[0m\u001b[0m\n\u001b[1;32m     61\u001b[0m \u001b[0;34m\u001b[0m\u001b[0m\n\u001b[0;32m---> 62\u001b[0;31m     \u001b[0mrunBench\u001b[0m\u001b[0;34m(\u001b[0m\u001b[0mn_target\u001b[0m\u001b[0;34m,\u001b[0m \u001b[0mi_run\u001b[0m\u001b[0;34m,\u001b[0m \u001b[0mn_iter_comparaison\u001b[0m\u001b[0;34m,\u001b[0m \u001b[0mn_iter_SGD_opt\u001b[0m\u001b[0;34m)\u001b[0m\u001b[0;34m\u001b[0m\u001b[0;34m\u001b[0m\u001b[0m\n\u001b[0m",
      "\u001b[0;32m/var/folders/cz/jd1nf4_j5_j6y5qdfp0qbmjh0000gn/T/ipykernel_2423/4047866532.py\u001b[0m in \u001b[0;36mrunBench\u001b[0;34m(n_target, i_run, n_iter_comparaison, n_iter_SGD_opt)\u001b[0m\n\u001b[1;32m     17\u001b[0m         \u001b[0mn_samples\u001b[0m \u001b[0;34m=\u001b[0m \u001b[0;36m1\u001b[0m\u001b[0;34m\u001b[0m\u001b[0;34m\u001b[0m\u001b[0m\n\u001b[1;32m     18\u001b[0m         \u001b[0mstep\u001b[0m \u001b[0;34m=\u001b[0m \u001b[0malpha\u001b[0m\u001b[0;34m*\u001b[0m\u001b[0;34m(\u001b[0m\u001b[0;36m1.\u001b[0m\u001b[0;34m/\u001b[0m\u001b[0mnp\u001b[0m\u001b[0;34m.\u001b[0m\u001b[0msqrt\u001b[0m\u001b[0;34m(\u001b[0m\u001b[0mi\u001b[0m\u001b[0;34m+\u001b[0m\u001b[0;36m1\u001b[0m\u001b[0;34m)\u001b[0m\u001b[0;34m)\u001b[0m\u001b[0;34m\u001b[0m\u001b[0;34m\u001b[0m\u001b[0m\n\u001b[0;32m---> 19\u001b[0;31m         \u001b[0mgrad\u001b[0m \u001b[0;34m=\u001b[0m \u001b[0;34m-\u001b[0m \u001b[0mnu\u001b[0m \u001b[0;34m+\u001b[0m \u001b[0marea_vect\u001b[0m\u001b[0;34m(\u001b[0m\u001b[0mrho\u001b[0m\u001b[0;34m,\u001b[0m\u001b[0mX\u001b[0m\u001b[0;34m,\u001b[0m\u001b[0mv\u001b[0m\u001b[0;34m,\u001b[0m\u001b[0mn_samples\u001b[0m\u001b[0;34m)\u001b[0m\u001b[0;34m\u001b[0m\u001b[0;34m\u001b[0m\u001b[0m\n\u001b[0m\u001b[1;32m     20\u001b[0m         \u001b[0mv\u001b[0m \u001b[0;34m=\u001b[0m \u001b[0mv\u001b[0m \u001b[0;34m-\u001b[0m \u001b[0mstep\u001b[0m\u001b[0;34m*\u001b[0m\u001b[0mgrad\u001b[0m\u001b[0;34m\u001b[0m\u001b[0;34m\u001b[0m\u001b[0m\n\u001b[1;32m     21\u001b[0m         \u001b[0mv_bar\u001b[0m \u001b[0;34m=\u001b[0m \u001b[0;36m1.\u001b[0m\u001b[0;34m/\u001b[0m\u001b[0;34m(\u001b[0m\u001b[0mi\u001b[0m\u001b[0;34m+\u001b[0m\u001b[0;36m1\u001b[0m\u001b[0;34m)\u001b[0m\u001b[0;34m*\u001b[0m\u001b[0;34m(\u001b[0m\u001b[0mv\u001b[0m \u001b[0;34m+\u001b[0m \u001b[0mi\u001b[0m\u001b[0;34m*\u001b[0m\u001b[0mv_bar\u001b[0m\u001b[0;34m)\u001b[0m\u001b[0;34m\u001b[0m\u001b[0;34m\u001b[0m\u001b[0m\n",
      "\u001b[0;32m/var/folders/cz/jd1nf4_j5_j6y5qdfp0qbmjh0000gn/T/ipykernel_2423/1645461373.py\u001b[0m in \u001b[0;36marea_vect\u001b[0;34m(rho, X, v, n_samples)\u001b[0m\n\u001b[1;32m     20\u001b[0m     \u001b[0;32melse\u001b[0m\u001b[0;34m:\u001b[0m\u001b[0;34m\u001b[0m\u001b[0;34m\u001b[0m\u001b[0m\n\u001b[1;32m     21\u001b[0m         \u001b[0mYv\u001b[0m \u001b[0;34m=\u001b[0m \u001b[0mnp\u001b[0m\u001b[0;34m.\u001b[0m\u001b[0mc_\u001b[0m\u001b[0;34m[\u001b[0m\u001b[0mY\u001b[0m\u001b[0;34m,\u001b[0m\u001b[0mnp\u001b[0m\u001b[0;34m.\u001b[0m\u001b[0mzeros\u001b[0m\u001b[0;34m(\u001b[0m\u001b[0mn_samples\u001b[0m\u001b[0;34m)\u001b[0m\u001b[0;34m]\u001b[0m\u001b[0;34m\u001b[0m\u001b[0;34m\u001b[0m\u001b[0m\n\u001b[0;32m---> 22\u001b[0;31m     \u001b[0mneighbors\u001b[0m \u001b[0;34m=\u001b[0m \u001b[0mkdTree\u001b[0m\u001b[0;34m.\u001b[0m\u001b[0mkneighbors\u001b[0m\u001b[0;34m(\u001b[0m\u001b[0mYv\u001b[0m\u001b[0;34m,\u001b[0m\u001b[0mn_neighbors\u001b[0m\u001b[0;34m=\u001b[0m\u001b[0;36m1\u001b[0m\u001b[0;34m,\u001b[0m\u001b[0mreturn_distance\u001b[0m\u001b[0;34m=\u001b[0m\u001b[0;32mFalse\u001b[0m\u001b[0;34m)\u001b[0m\u001b[0;34m\u001b[0m\u001b[0;34m\u001b[0m\u001b[0m\n\u001b[0m\u001b[1;32m     23\u001b[0m     \u001b[0marea_vect\u001b[0m \u001b[0;34m=\u001b[0m \u001b[0mnp\u001b[0m\u001b[0;34m.\u001b[0m\u001b[0mzeros\u001b[0m\u001b[0;34m(\u001b[0m\u001b[0mn_target\u001b[0m\u001b[0;34m)\u001b[0m\u001b[0;34m\u001b[0m\u001b[0;34m\u001b[0m\u001b[0m\n\u001b[1;32m     24\u001b[0m     \u001b[0;32mfor\u001b[0m \u001b[0mi\u001b[0m \u001b[0;32min\u001b[0m \u001b[0mrange\u001b[0m\u001b[0;34m(\u001b[0m\u001b[0mn_samples\u001b[0m\u001b[0;34m)\u001b[0m\u001b[0;34m:\u001b[0m\u001b[0;34m\u001b[0m\u001b[0;34m\u001b[0m\u001b[0m\n",
      "\u001b[0;32m/Library/Frameworks/Python.framework/Versions/3.8/lib/python3.8/site-packages/sklearn/neighbors/_base.py\u001b[0m in \u001b[0;36mkneighbors\u001b[0;34m(self, X, n_neighbors, return_distance)\u001b[0m\n\u001b[1;32m    684\u001b[0m             )\n\u001b[1;32m    685\u001b[0m \u001b[0;34m\u001b[0m\u001b[0m\n\u001b[0;32m--> 686\u001b[0;31m         \u001b[0mn_jobs\u001b[0m \u001b[0;34m=\u001b[0m \u001b[0meffective_n_jobs\u001b[0m\u001b[0;34m(\u001b[0m\u001b[0mself\u001b[0m\u001b[0;34m.\u001b[0m\u001b[0mn_jobs\u001b[0m\u001b[0;34m)\u001b[0m\u001b[0;34m\u001b[0m\u001b[0;34m\u001b[0m\u001b[0m\n\u001b[0m\u001b[1;32m    687\u001b[0m         \u001b[0mchunked_results\u001b[0m \u001b[0;34m=\u001b[0m \u001b[0;32mNone\u001b[0m\u001b[0;34m\u001b[0m\u001b[0;34m\u001b[0m\u001b[0m\n\u001b[1;32m    688\u001b[0m         if (self._fit_method == 'brute' and\n",
      "\u001b[0;32m/Library/Frameworks/Python.framework/Versions/3.8/lib/python3.8/site-packages/joblib/parallel.py\u001b[0m in \u001b[0;36meffective_n_jobs\u001b[0;34m(n_jobs)\u001b[0m\n\u001b[1;32m    408\u001b[0m     \u001b[0;32mif\u001b[0m \u001b[0mn_jobs\u001b[0m \u001b[0;32mis\u001b[0m \u001b[0;32mNone\u001b[0m\u001b[0;34m:\u001b[0m\u001b[0;34m\u001b[0m\u001b[0;34m\u001b[0m\u001b[0m\n\u001b[1;32m    409\u001b[0m         \u001b[0mn_jobs\u001b[0m \u001b[0;34m=\u001b[0m \u001b[0mbackend_n_jobs\u001b[0m\u001b[0;34m\u001b[0m\u001b[0;34m\u001b[0m\u001b[0m\n\u001b[0;32m--> 410\u001b[0;31m     \u001b[0;32mreturn\u001b[0m \u001b[0mbackend\u001b[0m\u001b[0;34m.\u001b[0m\u001b[0meffective_n_jobs\u001b[0m\u001b[0;34m(\u001b[0m\u001b[0mn_jobs\u001b[0m\u001b[0;34m=\u001b[0m\u001b[0mn_jobs\u001b[0m\u001b[0;34m)\u001b[0m\u001b[0;34m\u001b[0m\u001b[0;34m\u001b[0m\u001b[0m\n\u001b[0m\u001b[1;32m    411\u001b[0m \u001b[0;34m\u001b[0m\u001b[0m\n\u001b[1;32m    412\u001b[0m \u001b[0;34m\u001b[0m\u001b[0m\n",
      "\u001b[0;32m/Library/Frameworks/Python.framework/Versions/3.8/lib/python3.8/site-packages/joblib/_parallel_backends.py\u001b[0m in \u001b[0;36meffective_n_jobs\u001b[0;34m(self, n_jobs)\u001b[0m\n\u001b[1;32m    515\u001b[0m                     stacklevel=3)\n\u001b[1;32m    516\u001b[0m             \u001b[0;32mreturn\u001b[0m \u001b[0;36m1\u001b[0m\u001b[0;34m\u001b[0m\u001b[0;34m\u001b[0m\u001b[0m\n\u001b[0;32m--> 517\u001b[0;31m         \u001b[0;32melif\u001b[0m \u001b[0;32mnot\u001b[0m \u001b[0;34m(\u001b[0m\u001b[0mself\u001b[0m\u001b[0;34m.\u001b[0m\u001b[0min_main_thread\u001b[0m\u001b[0;34m(\u001b[0m\u001b[0;34m)\u001b[0m \u001b[0;32mor\u001b[0m \u001b[0mself\u001b[0m\u001b[0;34m.\u001b[0m\u001b[0mnesting_level\u001b[0m \u001b[0;34m==\u001b[0m \u001b[0;36m0\u001b[0m\u001b[0;34m)\u001b[0m\u001b[0;34m:\u001b[0m\u001b[0;34m\u001b[0m\u001b[0;34m\u001b[0m\u001b[0m\n\u001b[0m\u001b[1;32m    518\u001b[0m             \u001b[0;31m# Prevent posix fork inside in non-main posix threads\u001b[0m\u001b[0;34m\u001b[0m\u001b[0;34m\u001b[0m\u001b[0;34m\u001b[0m\u001b[0m\n\u001b[1;32m    519\u001b[0m             \u001b[0;32mif\u001b[0m \u001b[0mn_jobs\u001b[0m \u001b[0;34m!=\u001b[0m \u001b[0;36m1\u001b[0m\u001b[0;34m:\u001b[0m\u001b[0;34m\u001b[0m\u001b[0;34m\u001b[0m\u001b[0m\n",
      "\u001b[0;31mKeyboardInterrupt\u001b[0m: "
     ]
    }
   ],
   "source": [
    "D = 3\n",
    "\n",
    "# continuous measure\n",
    "\n",
    "np.random.seed(3)\n",
    "\n",
    "rho_list = []\n",
    "nrho = 3\n",
    "for i in range(nrho):\n",
    "    mu1 = np.random.rand(D)\n",
    "    sigma_tmp = np.random.rand(D,D)\n",
    "    sigma1 = 0.01 *((sigma_tmp.T + sigma_tmp)+ D * np.eye(D))\n",
    "    rho = multivariate_normal(mean = mu1,cov = sigma1)\n",
    "    rho_list.append(rho)\n",
    "\n",
    "\n",
    "\n",
    "rho_list_target = []\n",
    "nrho = 3\n",
    "for i in range(nrho):\n",
    "    mu1 = np.random.rand(D)\n",
    "    sigma_tmp = np.random.rand(D,D)\n",
    "    sigma1 = 0.01 *((sigma_tmp.T + sigma_tmp)+ D * np.eye(D))\n",
    "    rho = multivariate_normal(mean = mu1,cov = sigma1)\n",
    "    rho_list_target.append(rho)\n",
    "\n",
    "\n",
    "# discrete measure\n",
    "n_target = 10 # number of diracs\n",
    "X = sample_rho_batch(rho_list_target,n_target)\n",
    "\n",
    "\n",
    "nu = np.random.rand(n_target)\n",
    "nu = nu/np.sum(nu) # weights of diracs\n",
    "\n",
    "\n",
    "\n",
    "# In[9]:\n",
    "\n",
    "eps_list = [10**(-1),10**(-2),10**(-3),10**(-4)]\n",
    "#eps_list = [10**(-1),10**(-2)]\n",
    "\n",
    "n_eps = len(eps_list)\n",
    "\n",
    "\n",
    "\n",
    "\n",
    "n_iter_SGD_opt = 10**7\n",
    "n_iter_comparaison = 5*10**5\n",
    "\n",
    "nruns = 5\n",
    "arg = sys.argv[1]\n",
    "\n",
    "\n",
    "for i_run in range(nruns):\n",
    "\n",
    "    print (\"-------------    \"+str(i_run)+\"   ----------\")\n",
    "\n",
    "    X_target = sample_rho_batch(rho_list_target,n_target)\n",
    "\n",
    "\n",
    "    runBench(n_target, i_run, n_iter_comparaison, n_iter_SGD_opt)\n"
   ]
  }
 ],
 "metadata": {
  "interpreter": {
   "hash": "aee8b7b246df8f9039afb4144a1f6fd8d2ca17a180786b69acc140d282b71a49"
  },
  "kernelspec": {
   "display_name": "Python 3.8.7 64-bit",
   "language": "python",
   "name": "python3"
  },
  "language_info": {
   "codemirror_mode": {
    "name": "ipython",
    "version": 3
   },
   "file_extension": ".py",
   "mimetype": "text/x-python",
   "name": "python",
   "nbconvert_exporter": "python",
   "pygments_lexer": "ipython3",
   "version": "3.8.7"
  },
  "orig_nbformat": 4
 },
 "nbformat": 4,
 "nbformat_minor": 2
}
