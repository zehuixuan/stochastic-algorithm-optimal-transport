{
  "cells": [
    {
      "cell_type": "code",
      "execution_count": null,
      "metadata": {
        "colab": {
          "base_uri": "https://localhost:8080/"
        },
        "id": "dvAIpdSo7yXD",
        "outputId": "2395400d-1c0a-463c-8d1d-218ea7ded63e"
      },
      "outputs": [
        {
          "output_type": "stream",
          "name": "stdout",
          "text": [
            "Mounted at /content/drive\n"
          ]
        }
      ],
      "source": [
        "from google.colab import drive \n",
        "import os\n",
        "drive.mount('/content/drive')\n",
        "path = \"/content/drive/MyDrive/Internship/\"\n",
        "os.chdir(path)\n",
        "\n",
        "import numpy as np\n",
        "import matplotlib.pyplot as plt\n",
        "from scipy.optimize import linprog\n",
        "import math\n",
        "import pickle\n",
        "import datetime\n",
        "\n",
        "from utilsOT import *\n",
        "from algos import *"
      ]
    },
    {
      "cell_type": "markdown",
      "metadata": {
        "id": "NDlQGaGrla7_"
      },
      "source": [
        "# test"
      ]
    },
    {
      "cell_type": "code",
      "execution_count": null,
      "metadata": {
        "id": "E1A-7GlPlc3c"
      },
      "outputs": [],
      "source": [
        "seed = 0\n",
        "np.random.seed(seed)\n",
        "\n",
        "n_target = np.random.randint(2,20)\n",
        "np.random.randint(2,20)\n",
        "\n",
        "rho_list_target = generate_list_rho(3)\n",
        "rho_list_source = generate_list_rho(3)\n",
        "\n",
        "X_target = sample_rho_batch(rho_list_target,n_target)\n",
        "nu = np.random.rand(n_target)\n",
        "nu = nu/np.sum(nu) \n"
      ]
    },
    {
      "cell_type": "code",
      "execution_count": null,
      "metadata": {
        "id": "2M7xpRP1-5OY"
      },
      "outputs": [],
      "source": [
        "n_iter = 1000000\n",
        "alpha = 0.1"
      ]
    },
    {
      "cell_type": "code",
      "execution_count": null,
      "metadata": {
        "id": "NVkbyWC4lsQn"
      },
      "outputs": [],
      "source": [
        "v_list = np.zeros([n_target,n_iter])\n",
        "# W_list = np.zeros([n_iter//1000])\n",
        "\n",
        "v = np.zeros(n_target)\n",
        "v_tilde = np.zeros(n_target)\n",
        "\n",
        "for i in range(1000000) :\n",
        "    \n",
        "    v_list[:,i] = v\n",
        "\n",
        "    # if (i+1)%1000 == 0:\n",
        "    #     X_sample = sample_rho_batch(rho_list_source, 100000)\n",
        "    #     mu_sample = np.ones(100000)\n",
        "    #     mu_sample = mu_sample/np.sum(mu_sample)\n",
        "    #     W_list[(i+1)//1000 - 1] = W_sd(v,X_sample,X_target,mu_sample,nu,epsilon = 0)\n",
        "\n",
        "    X_source = sample_rho(rho_list_source)\n",
        "    step = alpha*(1./np.sqrt(i+1))\n",
        "    grad = grad_h_0(v_tilde, X_source, X_target,nu)\n",
        "    v_tilde = v_tilde + step*grad\n",
        "    v = 1./(i+1)*(v_tilde + i*v)"
      ]
    },
    {
      "cell_type": "code",
      "execution_count": null,
      "metadata": {
        "colab": {
          "base_uri": "https://localhost:8080/"
        },
        "id": "Fv7wbnVgbJqV",
        "outputId": "fd1115d7-f8e7-49b3-cc1b-6b670fd5b4f0"
      },
      "outputs": [
        {
          "name": "stdout",
          "output_type": "stream",
          "text": [
            "False\n"
          ]
        }
      ],
      "source": [
        "flag = True\n",
        "num = 1000000//1000\n",
        "W_check = W_list[:num]\n",
        "# val = np.min([(W_check.max()-W_check.min())*(10**(-3)),10**(-2)])\n",
        "val = 10**(-3)\n",
        "for i in range(50):\n",
        "    if np.all(np.abs(W_check[-1]-W_check[-2-i]) < val) == False: \n",
        "        flag = False\n",
        "\n",
        "print(flag)"
      ]
    },
    {
      "cell_type": "code",
      "execution_count": null,
      "metadata": {
        "colab": {
          "base_uri": "https://localhost:8080/",
          "height": 281
        },
        "id": "pI0BOr_n_Dz-",
        "outputId": "23a0fad5-efeb-428f-ba31-57a57b704f45"
      },
      "outputs": [
        {
          "data": {
            "image/png": "[encoded data removed]",
            "text/plain": [
              "<Figure size 432x288 with 1 Axes>"
            ]
          },
          "metadata": {},
          "output_type": "display_data"
        }
      ],
      "source": [
        "plt.figure()\n",
        "plt.plot(W_check)\n",
        "plt.title('W1, alpha = '+str(alpha))\n",
        "# plt.ylim([W_check[-1]-10**(-1), W_check[-1]+10**(-1)])\n",
        "# plt.savefig('permanent/figure/semi-discrete/theo/W1_alpha_'+str(alpha)+'_seed_'+str(seed)+'_iter_'+str(n_iter)+'.png')\n",
        "plt.show()\n",
        "plt.close()"
      ]
    },
    {
      "cell_type": "code",
      "execution_count": null,
      "metadata": {
        "colab": {
          "base_uri": "https://localhost:8080/",
          "height": 278
        },
        "id": "ssTStkZFnXcx",
        "outputId": "52fa4f6e-b1e6-4614-c3dd-e0eaab80eeec"
      },
      "outputs": [
        {
          "data": {
            "image/png": "[encoded data removed]",
            "text/plain": [
              "<Figure size 432x288 with 1 Axes>"
            ]
          },
          "metadata": {},
          "output_type": "display_data"
        }
      ],
      "source": [
        "plt.figure()\n",
        "a = (v_list**2).sum(axis = 0)\n",
        "plt.plot(a)\n",
        "val = 10**(-1)\n",
        "plt.ylim((a[-1]-val, a[-1]+val))\n",
        "plt.show()\n",
        "plt.close()"
      ]
    },
    {
      "cell_type": "code",
      "execution_count": null,
      "metadata": {
        "id": "coDhDQxxvOhD"
      },
      "outputs": [],
      "source": []
    },
    {
      "cell_type": "code",
      "execution_count": null,
      "metadata": {
        "id": "wgl1PA2wuLpo"
      },
      "outputs": [],
      "source": [
        "W_list = np.zeros(1000)\n",
        "X_sample = sample_rho_batch(rho_list_source, 100000)\n",
        "mu_sample = np.ones(100000)\n",
        "mu_sample = mu_sample/np.sum(mu_sample)\n",
        "for i in range(1000):\n",
        "    W_list[i] = W_sd(v_list[:, (99+i*100)],X_sample,X_target,mu_sample,nu,epsilon = 0)"
      ]
    },
    {
      "cell_type": "code",
      "execution_count": null,
      "metadata": {
        "colab": {
          "base_uri": "https://localhost:8080/",
          "height": 276
        },
        "id": "9ePirf27zlos",
        "outputId": "c61c21f1-a734-460d-e791-6c10af6c56b7"
      },
      "outputs": [
        {
          "data": {
            "image/png": "[encoded data removed]",
            "text/plain": [
              "<Figure size 432x288 with 1 Axes>"
            ]
          },
          "metadata": {},
          "output_type": "display_data"
        }
      ],
      "source": [
        "plt.figure()\n",
        "plt.plot(W_list)\n",
        "plt.ylim([W_list[-1]-10**(-5), W_list[-1]+10**(-5)])\n",
        "plt.show()\n",
        "plt.close()"
      ]
    },
    {
      "cell_type": "code",
      "execution_count": null,
      "metadata": {
        "colab": {
          "base_uri": "https://localhost:8080/"
        },
        "id": "ObM4kNv-Gz82",
        "outputId": "c64e9079-7943-4bc6-b974-cc6f65746c29"
      },
      "outputs": [
        {
          "name": "stdout",
          "output_type": "stream",
          "text": [
            "True\n"
          ]
        }
      ],
      "source": [
        "flag = True\n",
        "# val = np.min([(W_check.max()-W_check.min())*(10**(-3)),10**(-2)])\n",
        "val = 10**(-4)\n",
        "for i in range(500):\n",
        "    if np.all(np.abs(W_list[-1]-W_list[-2-i]) < val) == False: \n",
        "        flag = False\n",
        "\n",
        "print(flag)"
      ]
    },
    {
      "cell_type": "code",
      "execution_count": null,
      "metadata": {
        "id": "hcDGLOvQHiq1"
      },
      "outputs": [],
      "source": [
        "W_list = np.zeros(100)\n",
        "X_sample = sample_rho_batch(rho_list_source, 100000)\n",
        "mu_sample = np.ones(100000)\n",
        "mu_sample = mu_sample/np.sum(mu_sample)\n",
        "for i in range(100):\n",
        "    W_list[i] = W_sd(v_list[:, (999+i*1000)],X_sample,X_target,mu_sample,nu,epsilon = 0)"
      ]
    },
    {
      "cell_type": "code",
      "execution_count": null,
      "metadata": {
        "colab": {
          "base_uri": "https://localhost:8080/"
        },
        "id": "zzHfR-IzHowS",
        "outputId": "f05bae51-faf6-41d9-d3b8-ec8411fd5f0b"
      },
      "outputs": [
        {
          "name": "stdout",
          "output_type": "stream",
          "text": [
            "False\n"
          ]
        }
      ],
      "source": [
        "flag = True\n",
        "# val = np.min([(W_check.max()-W_check.min())*(10**(-3)),10**(-2)])\n",
        "val = 10**(-5)\n",
        "for i in range(50):\n",
        "    if np.all(np.abs(W_list[-1]-W_list[-2-i]) < val) == False: \n",
        "        flag = False\n",
        "\n",
        "print(flag)"
      ]
    },
    {
      "cell_type": "code",
      "execution_count": null,
      "metadata": {
        "colab": {
          "base_uri": "https://localhost:8080/",
          "height": 276
        },
        "id": "XiiZptdMHuwp",
        "outputId": "c35f2633-0611-43bc-f81a-b9c1e409426f"
      },
      "outputs": [
        {
          "data": {
            "image/png": "[encoded data removed]",
            "text/plain": [
              "<Figure size 432x288 with 1 Axes>"
            ]
          },
          "metadata": {},
          "output_type": "display_data"
        }
      ],
      "source": [
        "plt.figure()\n",
        "plt.plot(W_list)\n",
        "plt.ylim([W_list[-1]-10**(-5), W_list[-1]+10**(-5)])\n",
        "plt.show()\n",
        "plt.close()"
      ]
    },
    {
      "cell_type": "code",
      "execution_count": null,
      "metadata": {
        "id": "BDZ9awmEN2D9"
      },
      "outputs": [],
      "source": [
        "W_list = np.zeros(1000)\n",
        "X_sample = sample_rho_batch(rho_list_source, 100000)\n",
        "mu_sample = np.ones(100000)\n",
        "mu_sample = mu_sample/np.sum(mu_sample)\n",
        "for i in range(1000):\n",
        "    W_list[i] = W_sd(v_list[:, (999+i*1000)],X_sample,X_target,mu_sample,nu,epsilon = 0)"
      ]
    },
    {
      "cell_type": "code",
      "execution_count": null,
      "metadata": {
        "colab": {
          "base_uri": "https://localhost:8080/"
        },
        "id": "v0fKeDv2W3WY",
        "outputId": "b5b968eb-ffa4-478d-a2d6-161fe22db809"
      },
      "outputs": [
        {
          "name": "stdout",
          "output_type": "stream",
          "text": [
            "False\n"
          ]
        }
      ],
      "source": [
        "flag = True\n",
        "# val = np.min([(W_check.max()-W_check.min())*(10**(-3)),10**(-2)])\n",
        "val = 10**(-8)\n",
        "for i in range(50):\n",
        "    if np.all(np.abs(W_list[-1]-W_list[-2-i]) < val) == False: \n",
        "        flag = False\n",
        "\n",
        "print(flag)"
      ]
    },
    {
      "cell_type": "code",
      "execution_count": null,
      "metadata": {
        "colab": {
          "base_uri": "https://localhost:8080/",
          "height": 265
        },
        "id": "7chLoou3W94d",
        "outputId": "024e8b4b-fe59-40fd-b06e-283f8a553bd1"
      },
      "outputs": [
        {
          "data": {
            "image/png": "[encoded data removed]",
            "text/plain": [
              "<Figure size 432x288 with 1 Axes>"
            ]
          },
          "metadata": {},
          "output_type": "display_data"
        }
      ],
      "source": [
        "plt.figure()\n",
        "plt.plot(W_list)\n",
        "plt.ylim([W_list[-1]-10**(-5), W_list[-1]+10**(-5)])\n",
        "plt.show()\n",
        "plt.close()"
      ]
    },
    {
      "cell_type": "code",
      "execution_count": null,
      "metadata": {
        "colab": {
          "base_uri": "https://localhost:8080/"
        },
        "id": "zvdlz8Vwb3uJ",
        "outputId": "ad04f2ae-d134-4eba-d260-1eed0956eed7"
      },
      "outputs": [
        {
          "name": "stdout",
          "output_type": "stream",
          "text": [
            "True\n"
          ]
        }
      ],
      "source": [
        "flag = True\n",
        "a = (v_list**2).sum(axis = 0)\n",
        "val = 10**(-3)\n",
        "for i in range(50000):\n",
        "    if np.all(np.abs(a[-1]-a[-2-i]) < val) == False: \n",
        "        flag = False\n",
        "\n",
        "print(flag)"
      ]
    },
    {
      "cell_type": "code",
      "execution_count": null,
      "metadata": {
        "colab": {
          "base_uri": "https://localhost:8080/",
          "height": 278
        },
        "id": "YBUQqlY_aK9Z",
        "outputId": "76d13b3a-e1c5-4f55-b52e-fc34989b0c8d"
      },
      "outputs": [
        {
          "data": {
            "image/png": "[encoded data removed]",
            "text/plain": [
              "<Figure size 432x288 with 1 Axes>"
            ]
          },
          "metadata": {},
          "output_type": "display_data"
        }
      ],
      "source": [
        "plt.figure()\n",
        "a = (v_list**2).sum(axis = 0)\n",
        "plt.plot(a)\n",
        "val = 10**(-1)\n",
        "plt.ylim((a[-1]-val, a[-1]+val))\n",
        "plt.show()\n",
        "plt.close()"
      ]
    },
    {
      "cell_type": "markdown",
      "metadata": {
        "id": "8Oyt5zFyHhQ_"
      },
      "source": [
        "#..."
      ]
    },
    {
      "cell_type": "code",
      "execution_count": null,
      "metadata": {
        "colab": {
          "base_uri": "https://localhost:8080/",
          "height": 278
        },
        "id": "-l9htxcKn5RF",
        "outputId": "4bbe3e95-c783-480b-ad37-8e52e71d009b"
      },
      "outputs": [
        {
          "data": {
            "image/png": "[encoded data removed]",
            "text/plain": [
              "<Figure size 432x288 with 1 Axes>"
            ]
          },
          "metadata": {},
          "output_type": "display_data"
        }
      ],
      "source": [
        "plt.figure()\n",
        "plt.plot(v_list[0])\n",
        "plt.show()\n",
        "plt.close()"
      ]
    },
    {
      "cell_type": "code",
      "execution_count": null,
      "metadata": {
        "colab": {
          "base_uri": "https://localhost:8080/",
          "height": 278
        },
        "id": "WmOMv_t-n_v9",
        "outputId": "7ef8e5c2-73b8-4675-b101-bdc2293ff1c9"
      },
      "outputs": [
        {
          "data": {
            "image/png": "[encoded data removed]",
            "text/plain": [
              "<Figure size 432x288 with 1 Axes>"
            ]
          },
          "metadata": {},
          "output_type": "display_data"
        }
      ],
      "source": [
        "plt.figure()\n",
        "axis = 13\n",
        "plt.plot(v_list[axis])\n",
        "val = 10**(-3)\n",
        "plt.ylim((v_list[axis][-1]-val,v_list[axis][-1]+val))\n",
        "plt.show()\n",
        "plt.close()"
      ]
    },
    {
      "cell_type": "code",
      "execution_count": null,
      "metadata": {
        "id": "DJOzaxNNJDon"
      },
      "outputs": [],
      "source": [
        "alpha = 0.01\n",
        "\n",
        "for i in range(100000) :\n",
        "    \n",
        "    v_list[:,i] = v\n",
        "\n",
        "    if (i+1)%100 == 0:\n",
        "        X_sample = sample_rho_batch(rho_list_source, 10000)\n",
        "        mu_sample = np.ones(10000)\n",
        "        mu_sample = mu_sample/np.sum(mu_sample)\n",
        "        W_list[(i+1)//100 - 1] = W_sd(v,X_sample,X_target,mu_sample,nu,epsilon = 0)\n",
        "\n",
        "    X_source = sample_rho(rho_list_source)\n",
        "    step = alpha*(1./np.sqrt(i+1))\n",
        "    grad = grad_h_0(v_tilde, X_source, X_target,nu)\n",
        "    v_tilde = v_tilde + step*grad\n",
        "    v = 1./(i+1)*(v_tilde + i*v)"
      ]
    },
    {
      "cell_type": "code",
      "execution_count": null,
      "metadata": {
        "colab": {
          "base_uri": "https://localhost:8080/"
        },
        "id": "dlblv5aPJVln",
        "outputId": "aca69fb8-75c1-40f9-cc49-0882db3ff574"
      },
      "outputs": [
        {
          "name": "stdout",
          "output_type": "stream",
          "text": [
            "False\n"
          ]
        }
      ],
      "source": [
        "flag = True\n",
        "num = 100000//100\n",
        "W_check = W_list[:num]\n",
        "# val = np.min([(W_check.max()-W_check.min())*(10**(-3)),10**(-2)])\n",
        "val = 10**(-2)\n",
        "for i in range(50):\n",
        "    if np.all(np.abs(W_check[-1]-W_check[-2-i]) < val) == False: \n",
        "        flag = False\n",
        "\n",
        "print(flag)"
      ]
    },
    {
      "cell_type": "code",
      "execution_count": null,
      "metadata": {
        "colab": {
          "base_uri": "https://localhost:8080/",
          "height": 281
        },
        "id": "8Wqk9yjiJZX5",
        "outputId": "5d612983-72f4-4ac8-9091-e4321256187b"
      },
      "outputs": [
        {
          "data": {
            "image/png": "[encoded data removed]",
            "text/plain": [
              "<Figure size 432x288 with 1 Axes>"
            ]
          },
          "metadata": {},
          "output_type": "display_data"
        }
      ],
      "source": [
        "plt.figure()\n",
        "plt.plot(W_check)\n",
        "plt.title('W1, alpha = '+str(alpha))\n",
        "# plt.ylim([W_check[-1]-10**(-1), W_check[-1]+10**(-1)])\n",
        "plt.savefig('permanent/figure/semi-discrete/theo/W1_alpha_'+str(alpha)+'_seed_'+str(seed)+'_iter_'+str(n_iter)+'.png')\n",
        "plt.show()\n",
        "plt.close()"
      ]
    },
    {
      "cell_type": "code",
      "execution_count": null,
      "metadata": {
        "id": "ikH7xWTxPJA0"
      },
      "outputs": [],
      "source": [
        "alpha = 0.001\n",
        "\n",
        "for i in range(100000) :\n",
        "    \n",
        "    v_list[:,i] = v\n",
        "\n",
        "    if (i+1)%100 == 0:\n",
        "        X_sample = sample_rho_batch(rho_list_source, 10000)\n",
        "        mu_sample = np.ones(10000)\n",
        "        mu_sample = mu_sample/np.sum(mu_sample)\n",
        "        W_list[(i+1)//100 - 1] = W_sd(v,X_sample,X_target,mu_sample,nu,epsilon = 0)\n",
        "\n",
        "    X_source = sample_rho(rho_list_source)\n",
        "    step = alpha*(1./np.sqrt(i+1))\n",
        "    grad = grad_h_0(v_tilde, X_source, X_target,nu)\n",
        "    v_tilde = v_tilde + step*grad\n",
        "    v = 1./(i+1)*(v_tilde + i*v)"
      ]
    },
    {
      "cell_type": "code",
      "execution_count": null,
      "metadata": {
        "colab": {
          "base_uri": "https://localhost:8080/"
        },
        "id": "bfGajoYkPOcs",
        "outputId": "e64e20fc-564d-4038-81ab-5a2388e3ac3f"
      },
      "outputs": [
        {
          "name": "stdout",
          "output_type": "stream",
          "text": [
            "True\n"
          ]
        }
      ],
      "source": [
        "flag = True\n",
        "num = 100000//100\n",
        "W_check = W_list[:num]\n",
        "# val = np.min([(W_check.max()-W_check.min())*(10**(-3)),10**(-2)])\n",
        "val = 10**(-2)\n",
        "for i in range(50):\n",
        "    if np.all(np.abs(W_check[-1]-W_check[-2-i]) < val) == False: \n",
        "        flag = False\n",
        "\n",
        "print(flag)"
      ]
    },
    {
      "cell_type": "code",
      "execution_count": null,
      "metadata": {
        "colab": {
          "base_uri": "https://localhost:8080/",
          "height": 281
        },
        "id": "z88yELvvPQLy",
        "outputId": "6e86e1f7-4815-4f20-a643-3afc8ffc6af2"
      },
      "outputs": [
        {
          "data": {
            "image/png": "[encoded data removed]",
            "text/plain": [
              "<Figure size 432x288 with 1 Axes>"
            ]
          },
          "metadata": {},
          "output_type": "display_data"
        }
      ],
      "source": [
        "plt.figure()\n",
        "plt.plot(W_check)\n",
        "plt.title('W1, alpha = '+str(alpha))\n",
        "# plt.ylim([W_check[-1]-10**(-2), W_check[-1]+10**(-2)])\n",
        "plt.savefig('permanent/figure/semi-discrete/theo/W1_alpha_'+str(alpha)+'_seed_'+str(seed)+'_iter_'+str(n_iter)+'.png')\n",
        "plt.show()\n",
        "plt.close()"
      ]
    },
    {
      "cell_type": "code",
      "execution_count": null,
      "metadata": {
        "id": "sfyBG0ttWesh"
      },
      "outputs": [],
      "source": [
        "alpha = 0.0001\n",
        "\n",
        "for i in range(100000) :\n",
        "    \n",
        "    v_list[:,i] = v\n",
        "\n",
        "    if (i+1)%100 == 0:\n",
        "        X_sample = sample_rho_batch(rho_list_source, 10000)\n",
        "        mu_sample = np.ones(10000)\n",
        "        mu_sample = mu_sample/np.sum(mu_sample)\n",
        "        W_list[(i+1)//100 - 1] = W_sd(v,X_sample,X_target,mu_sample,nu,epsilon = 0)\n",
        "\n",
        "    X_source = sample_rho(rho_list_source)\n",
        "    step = alpha*(1./np.sqrt(i+1))\n",
        "    grad = grad_h_0(v_tilde, X_source, X_target,nu)\n",
        "    v_tilde = v_tilde + step*grad\n",
        "    v = 1./(i+1)*(v_tilde + i*v)"
      ]
    },
    {
      "cell_type": "code",
      "execution_count": null,
      "metadata": {
        "colab": {
          "base_uri": "https://localhost:8080/"
        },
        "id": "g1iB07RBWj0n",
        "outputId": "ddf5ed8b-feca-4f2f-bfe8-4a0f372b8b22"
      },
      "outputs": [
        {
          "name": "stdout",
          "output_type": "stream",
          "text": [
            "False\n"
          ]
        }
      ],
      "source": [
        "flag = True\n",
        "num = 100000//100\n",
        "W_check = W_list[:num]\n",
        "# val = np.min([(W_check.max()-W_check.min())*(10**(-3)),10**(-2)])\n",
        "val = 10**(-3)\n",
        "for i in range(50):\n",
        "    if np.all(np.abs(W_check[-1]-W_check[-2-i]) < val) == False: \n",
        "        flag = False\n",
        "\n",
        "print(flag)"
      ]
    },
    {
      "cell_type": "code",
      "execution_count": null,
      "metadata": {
        "colab": {
          "base_uri": "https://localhost:8080/",
          "height": 281
        },
        "id": "2fBA6ksrWoSw",
        "outputId": "211b10c3-a8df-4af2-f296-7333768dae37"
      },
      "outputs": [
        {
          "data": {
            "image/png": "[encoded data removed]",
            "text/plain": [
              "<Figure size 432x288 with 1 Axes>"
            ]
          },
          "metadata": {},
          "output_type": "display_data"
        }
      ],
      "source": [
        "plt.figure()\n",
        "plt.plot(W_check)\n",
        "plt.title('W1, alpha = '+str(alpha))\n",
        "# plt.ylim([W_check[-1]-10**(-2), W_check[-1]+10**(-2)])\n",
        "plt.savefig('permanent/figure/semi-discrete/theo/W1_alpha_'+str(alpha)+'_seed_'+str(seed)+'_iter_'+str(n_iter)+'.png')\n",
        "plt.show()\n",
        "plt.close()"
      ]
    },
    {
      "cell_type": "code",
      "execution_count": null,
      "metadata": {
        "id": "xZ_dgThJEsXy"
      },
      "outputs": [],
      "source": [
        "from google.colab import output\n",
        "output.eval_js('new Audio(\"https://upload.wikimedia.org/wikipedia/commons/f/f9/Beep_example.ogg\").play()')"
      ]
    },
    {
      "cell_type": "markdown",
      "metadata": {
        "id": "641CEdSS_Ay7"
      },
      "source": [
        "# functions"
      ]
    },
    {
      "cell_type": "code",
      "execution_count": null,
      "metadata": {
        "id": "tc9yt_2LfpU2"
      },
      "outputs": [],
      "source": [
        "def calculate_v_list_ASGD_semi_discrete_non_reg(nu,X_target,rho_list_source, alpha,n_iter):\n",
        "    n_target = len(X_target)\n",
        "    v_list = np.zeros([n_target,n_iter])\n",
        "\n",
        "    v = np.zeros(n_target)\n",
        "    v_tilde = np.zeros(n_target)\n",
        "    \n",
        "    for i in range(n_iter) :\n",
        "        \n",
        "        v_list[:,i] = v\n",
        "\n",
        "        X_source = sample_rho(rho_list_source)\n",
        "        step = alpha*(1./np.sqrt(i+1))\n",
        "        grad = grad_h_0(v_tilde, X_source, X_target,nu)\n",
        "        v_tilde = v_tilde + step*grad\n",
        "        v = 1./(i+1)*(v_tilde + i*v)\n",
        "    \n",
        "    return v_list\n",
        "\n",
        "\n"
      ]
    },
    {
      "cell_type": "code",
      "execution_count": null,
      "metadata": {
        "id": "O8JBnfb5gS2S"
      },
      "outputs": [],
      "source": [
        "def runALL(seeds, alpha, n_iter):\n",
        "    for seed in seeds:\n",
        "        if seed % 10 == 0:\n",
        "            print('============= from '+str(seed)+' to '+str(seed+10)+' =============')\n",
        "\n",
        "        np.random.seed(seed)\n",
        "\n",
        "        n_target = np.random.randint(2,20)\n",
        "        np.random.randint(2,20)\n",
        "\n",
        "        rho_list_target = generate_list_rho(3)\n",
        "        rho_list_source = generate_list_rho(3)\n",
        "\n",
        "        X_target = sample_rho_batch(rho_list_target,n_target)\n",
        "        nu = np.random.rand(n_target)\n",
        "        nu = nu/np.sum(nu) \n",
        "\n",
        "        X_sample = sample_rho_batch(rho_list_source, 100000)\n",
        "        mu_sample = np.ones(100000)\n",
        "        mu_sample = mu_sample/np.sum(mu_sample)\n",
        "\n",
        "        t0 = datetime.datetime.now()\n",
        "        v_list = calculate_v_list_ASGD_semi_discrete_non_reg(nu,X_target,rho_list_source, alpha, n_iter)\n",
        "        W_final = W_sd(v_list[:,-1],X_sample,X_target,mu_sample,nu,epsilon = 0)\n",
        "        t1 = datetime.datetime.now()\n",
        "\n",
        "        flag = True\n",
        "        test_v = (v_list**2).sum(axis = 0)\n",
        "        val = 10**(-3)\n",
        "        for i in range(50000):\n",
        "            if np.all(np.abs(test_v[-1]-test_v[-2-i]) < val) == False: \n",
        "                flag = False\n",
        "        print('seed: '+str(seed)+', n_iter: '+str(n_iter)+', time: '+str((t1-t0).seconds)+', valid: '+str(flag))\n",
        "\n",
        "        np.save('permanent/result/semi-discrete/theo/W1_theo_final_seed_'+str(seed)+'.npy',W_final)\n",
        "        \n",
        "        plt.figure()\n",
        "        plt.plot(test_v)\n",
        "        plt.title('test_v, alpha = '+str(alpha))\n",
        "        plt.savefig('permanent/figure/semi-discrete/theo/test_v1_seed_'+str(seed)+'.png')\n",
        "        plt.close()\n",
        "\n"
      ]
    },
    {
      "cell_type": "markdown",
      "source": [
        "# eps_init = 0.1"
      ],
      "metadata": {
        "id": "7SgfvLNQm_00"
      }
    },
    {
      "cell_type": "code",
      "execution_count": null,
      "metadata": {
        "colab": {
          "base_uri": "https://localhost:8080/"
        },
        "id": "bOEX7_c28MKf",
        "outputId": "214e3342-0df7-4254-aa79-51fa6644f44a"
      },
      "outputs": [
        {
          "name": "stdout",
          "output_type": "stream",
          "text": [
            "============= from 0 to 10 =============\n",
            "seed: 0, n_iter: 1000000, time: 982, valid: True\n",
            "seed: 1, n_iter: 1000000, time: 983, valid: True\n",
            "seed: 2, n_iter: 1000000, time: 972, valid: True\n",
            "seed: 3, n_iter: 1000000, time: 972, valid: True\n",
            "seed: 4, n_iter: 1000000, time: 967, valid: True\n",
            "seed: 5, n_iter: 1000000, time: 968, valid: True\n",
            "seed: 6, n_iter: 1000000, time: 968, valid: True\n",
            "seed: 7, n_iter: 1000000, time: 966, valid: True\n",
            "seed: 8, n_iter: 1000000, time: 967, valid: True\n",
            "seed: 9, n_iter: 1000000, time: 963, valid: True\n"
          ]
        }
      ],
      "source": [
        "runALL(range(0,10), alpha = 0.1, n_iter = 1000000)"
      ]
    },
    {
      "cell_type": "code",
      "execution_count": null,
      "metadata": {
        "colab": {
          "base_uri": "https://localhost:8080/"
        },
        "id": "heEdxIzynJtv",
        "outputId": "c5bc1db6-cd9e-49d3-8bd3-c240051126e2"
      },
      "outputs": [
        {
          "name": "stdout",
          "output_type": "stream",
          "text": [
            "============= from 10 to 20 =============\n",
            "seed: 10, n_iter: 1000000, time: 970, valid: True\n",
            "seed: 11, n_iter: 1000000, time: 982, valid: False\n",
            "seed: 12, n_iter: 1000000, time: 957, valid: True\n",
            "seed: 13, n_iter: 1000000, time: 958, valid: True\n",
            "seed: 14, n_iter: 1000000, time: 962, valid: True\n",
            "seed: 15, n_iter: 1000000, time: 959, valid: True\n",
            "seed: 16, n_iter: 1000000, time: 960, valid: True\n",
            "seed: 17, n_iter: 1000000, time: 960, valid: True\n",
            "seed: 18, n_iter: 1000000, time: 960, valid: True\n",
            "seed: 19, n_iter: 1000000, time: 960, valid: True\n"
          ]
        }
      ],
      "source": [
        "runALL(range(10,20), alpha = 0.1, n_iter = 1000000)"
      ]
    },
    {
      "cell_type": "code",
      "source": [
        "runALL(range(11,12), alpha = 0.1, n_iter = 2000000)"
      ],
      "metadata": {
        "id": "NQl6ZK_ZvKR2",
        "colab": {
          "base_uri": "https://localhost:8080/"
        },
        "outputId": "c422ee1e-e06b-40fc-b1e4-beffab5f09cb"
      },
      "execution_count": null,
      "outputs": [
        {
          "output_type": "stream",
          "name": "stdout",
          "text": [
            "seed: 11, n_iter: 2000000, time: 1442, valid: True\n"
          ]
        }
      ]
    },
    {
      "cell_type": "code",
      "execution_count": null,
      "metadata": {
        "colab": {
          "base_uri": "https://localhost:8080/"
        },
        "id": "CSmVmQivnK5p",
        "outputId": "36d4175c-012b-4d14-8ebe-f03f1e3a3322"
      },
      "outputs": [
        {
          "name": "stdout",
          "output_type": "stream",
          "text": [
            "============= from 20 to 30 =============\n",
            "seed: 20, n_iter: 1000000, time: 957, valid: True\n",
            "seed: 21, n_iter: 1000000, time: 959, valid: True\n",
            "seed: 22, n_iter: 1000000, time: 959, valid: True\n",
            "seed: 23, n_iter: 1000000, time: 957, valid: True\n",
            "seed: 24, n_iter: 1000000, time: 960, valid: True\n",
            "seed: 25, n_iter: 1000000, time: 960, valid: True\n",
            "seed: 26, n_iter: 1000000, time: 960, valid: True\n",
            "seed: 27, n_iter: 1000000, time: 962, valid: True\n",
            "seed: 28, n_iter: 1000000, time: 964, valid: True\n",
            "seed: 29, n_iter: 1000000, time: 967, valid: True\n"
          ]
        }
      ],
      "source": [
        "runALL(range(20,30), alpha = 0.1, n_iter = 1000000)"
      ]
    },
    {
      "cell_type": "code",
      "execution_count": null,
      "metadata": {
        "colab": {
          "base_uri": "https://localhost:8080/"
        },
        "id": "bAIuqX5SqPY3",
        "outputId": "fb7906b5-7eee-4816-f59e-cb55e5c13531"
      },
      "outputs": [
        {
          "name": "stdout",
          "output_type": "stream",
          "text": [
            "============= from 30 to 40 =============\n",
            "seed: 30, n_iter: 1000000, time: 1023, valid: True\n",
            "seed: 31, n_iter: 1000000, time: 1009, valid: True\n",
            "seed: 32, n_iter: 1000000, time: 1005, valid: True\n",
            "seed: 33, n_iter: 1000000, time: 1008, valid: True\n",
            "seed: 34, n_iter: 1000000, time: 983, valid: True\n",
            "seed: 35, n_iter: 1000000, time: 962, valid: True\n",
            "seed: 36, n_iter: 1000000, time: 960, valid: True\n",
            "seed: 37, n_iter: 1000000, time: 963, valid: False\n",
            "seed: 38, n_iter: 1000000, time: 966, valid: True\n",
            "seed: 39, n_iter: 1000000, time: 964, valid: True\n"
          ]
        }
      ],
      "source": [
        "runALL(range(30,40), alpha = 0.1, n_iter = 1000000)"
      ]
    },
    {
      "cell_type": "code",
      "source": [
        "runALL(range(37,38), alpha = 0.1, n_iter = 2000000)"
      ],
      "metadata": {
        "colab": {
          "base_uri": "https://localhost:8080/"
        },
        "id": "0tpisgEUvFJp",
        "outputId": "51af1d4a-f9ea-47ef-8cb5-6dc7bf239e89"
      },
      "execution_count": null,
      "outputs": [
        {
          "output_type": "stream",
          "name": "stdout",
          "text": [
            "seed: 37, n_iter: 2000000, time: 1522, valid: True\n"
          ]
        }
      ]
    },
    {
      "cell_type": "code",
      "execution_count": null,
      "metadata": {
        "colab": {
          "base_uri": "https://localhost:8080/"
        },
        "id": "80_3AIWTQcEF",
        "outputId": "a9193b4d-e8ed-48ef-c340-66b077de0a2f"
      },
      "outputs": [
        {
          "name": "stdout",
          "output_type": "stream",
          "text": [
            "============= from 40 to 50 =============\n",
            "seed: 40, n_iter: 1000000, time: 1003, valid: True\n",
            "seed: 41, n_iter: 1000000, time: 999, valid: True\n",
            "seed: 42, n_iter: 1000000, time: 1005, valid: True\n",
            "seed: 43, n_iter: 1000000, time: 1018, valid: True\n",
            "seed: 44, n_iter: 1000000, time: 1017, valid: True\n",
            "seed: 45, n_iter: 1000000, time: 1024, valid: True\n",
            "seed: 46, n_iter: 1000000, time: 1016, valid: True\n",
            "seed: 47, n_iter: 1000000, time: 1016, valid: False\n",
            "seed: 48, n_iter: 1000000, time: 1012, valid: True\n",
            "seed: 49, n_iter: 1000000, time: 1021, valid: True\n"
          ]
        }
      ],
      "source": [
        "runALL(range(40,50), alpha = 0.1, n_iter = 1000000)"
      ]
    },
    {
      "cell_type": "code",
      "source": [
        "runALL(range(47,48), alpha = 0.1, n_iter = 2000000)"
      ],
      "metadata": {
        "colab": {
          "base_uri": "https://localhost:8080/"
        },
        "id": "E23lkxnHvBLL",
        "outputId": "39f05bc7-41ff-4596-a671-506588e58a5d"
      },
      "execution_count": null,
      "outputs": [
        {
          "output_type": "stream",
          "name": "stdout",
          "text": [
            "seed: 47, n_iter: 2000000, time: 1416, valid: True\n"
          ]
        }
      ]
    },
    {
      "cell_type": "code",
      "execution_count": null,
      "metadata": {
        "colab": {
          "base_uri": "https://localhost:8080/"
        },
        "id": "qokfAWNP3m21",
        "outputId": "3e60d3a2-a6ef-4f74-be84-e45884879d08"
      },
      "outputs": [
        {
          "name": "stdout",
          "output_type": "stream",
          "text": [
            "============= from 50 to 60 =============\n",
            "seed: 50, n_iter: 1000000, time: 1026, valid: True\n",
            "seed: 51, n_iter: 1000000, time: 1008, valid: True\n",
            "seed: 52, n_iter: 1000000, time: 975, valid: True\n",
            "seed: 53, n_iter: 1000000, time: 983, valid: True\n",
            "seed: 54, n_iter: 1000000, time: 970, valid: True\n",
            "seed: 55, n_iter: 1000000, time: 967, valid: False\n",
            "seed: 56, n_iter: 1000000, time: 962, valid: True\n",
            "seed: 57, n_iter: 1000000, time: 968, valid: True\n",
            "seed: 58, n_iter: 1000000, time: 971, valid: True\n",
            "seed: 59, n_iter: 1000000, time: 971, valid: True\n"
          ]
        }
      ],
      "source": [
        "runALL(range(50,60), alpha = 0.1, n_iter = 1000000)"
      ]
    },
    {
      "cell_type": "code",
      "source": [
        "runALL(range(55,56), alpha = 0.1, n_iter = 2000000)"
      ],
      "metadata": {
        "colab": {
          "base_uri": "https://localhost:8080/"
        },
        "id": "Owt7eflGu8KO",
        "outputId": "15d8b88d-ea7e-4634-9742-671ca695bf04"
      },
      "execution_count": null,
      "outputs": [
        {
          "output_type": "stream",
          "name": "stdout",
          "text": [
            "seed: 55, n_iter: 2000000, time: 1418, valid: True\n"
          ]
        }
      ]
    },
    {
      "cell_type": "code",
      "execution_count": null,
      "metadata": {
        "colab": {
          "base_uri": "https://localhost:8080/"
        },
        "id": "tMYfNn0Xqpba",
        "outputId": "32e09282-aba3-498e-e181-351ceb407052"
      },
      "outputs": [
        {
          "name": "stdout",
          "output_type": "stream",
          "text": [
            "============= from 60 to 70 =============\n",
            "seed: 60, n_iter: 1000000, time: 1024, valid: False\n",
            "seed: 61, n_iter: 1000000, time: 1014, valid: True\n",
            "seed: 62, n_iter: 1000000, time: 1014, valid: True\n",
            "seed: 63, n_iter: 1000000, time: 1021, valid: True\n",
            "seed: 64, n_iter: 1000000, time: 1021, valid: True\n",
            "seed: 65, n_iter: 1000000, time: 1021, valid: True\n",
            "seed: 66, n_iter: 1000000, time: 1022, valid: True\n",
            "seed: 67, n_iter: 1000000, time: 1021, valid: True\n",
            "seed: 68, n_iter: 1000000, time: 1019, valid: True\n",
            "seed: 69, n_iter: 1000000, time: 1030, valid: True\n"
          ]
        }
      ],
      "source": [
        "runALL(range(60,70), alpha = 0.1, n_iter = 1000000)"
      ]
    },
    {
      "cell_type": "code",
      "source": [
        "runALL(range(60,61), alpha = 0.1, n_iter = 2000000)"
      ],
      "metadata": {
        "colab": {
          "base_uri": "https://localhost:8080/"
        },
        "id": "2h8wPg7uu10W",
        "outputId": "8cd62480-777f-4db4-c2fe-3ef5a53c43bd"
      },
      "execution_count": null,
      "outputs": [
        {
          "output_type": "stream",
          "name": "stdout",
          "text": [
            "============= from 60 to 70 =============\n",
            "seed: 60, n_iter: 2000000, time: 1447, valid: True\n"
          ]
        }
      ]
    },
    {
      "cell_type": "code",
      "execution_count": null,
      "metadata": {
        "colab": {
          "base_uri": "https://localhost:8080/"
        },
        "id": "zZFAWe_lZR-k",
        "outputId": "d40704cf-6775-43ae-b57f-1e533e6b8d23"
      },
      "outputs": [
        {
          "name": "stdout",
          "output_type": "stream",
          "text": [
            "============= from 70 to 80 =============\n",
            "seed: 70, n_iter: 1000000, time: 1028, valid: True\n",
            "seed: 71, n_iter: 1000000, time: 1030, valid: True\n",
            "seed: 72, n_iter: 1000000, time: 1028, valid: True\n",
            "seed: 73, n_iter: 1000000, time: 1033, valid: True\n",
            "seed: 74, n_iter: 1000000, time: 1038, valid: True\n",
            "seed: 75, n_iter: 1000000, time: 1038, valid: True\n",
            "seed: 76, n_iter: 1000000, time: 1040, valid: True\n",
            "seed: 77, n_iter: 1000000, time: 1050, valid: True\n",
            "seed: 78, n_iter: 1000000, time: 1052, valid: True\n",
            "seed: 79, n_iter: 1000000, time: 1032, valid: True\n"
          ]
        }
      ],
      "source": [
        "runALL(range(70,80), alpha = 0.1, n_iter = 1000000)"
      ]
    },
    {
      "cell_type": "code",
      "execution_count": null,
      "metadata": {
        "colab": {
          "background_save": true,
          "base_uri": "https://localhost:8080/"
        },
        "id": "hMnXYPln4cHZ",
        "outputId": "cf09d72c-d94a-4889-917f-619245d1839f"
      },
      "outputs": [
        {
          "name": "stdout",
          "output_type": "stream",
          "text": [
            "============= from 80 to 90 =============\n",
            "seed: 80, n_iter: 1000000, time: 1025, valid: True\n",
            "seed: 81, n_iter: 1000000, time: 1029, valid: True\n",
            "seed: 82, n_iter: 1000000, time: 1003, valid: True\n",
            "seed: 83, n_iter: 1000000, time: 988, valid: True\n",
            "seed: 84, n_iter: 1000000, time: 986, valid: True\n",
            "seed: 85, n_iter: 1000000, time: 987, valid: True\n",
            "seed: 86, n_iter: 1000000, time: 993, valid: True\n",
            "seed: 87, n_iter: 1000000, time: 996, valid: True\n",
            "seed: 88, n_iter: 1000000, time: 988, valid: True\n",
            "seed: 89, n_iter: 1000000, time: 990, valid: True\n"
          ]
        }
      ],
      "source": [
        "runALL(range(80,90), alpha = 0.1, n_iter = 1000000)"
      ]
    },
    {
      "cell_type": "code",
      "execution_count": null,
      "metadata": {
        "colab": {
          "background_save": true
        },
        "id": "2gf2Zg9_4fKD",
        "outputId": "b2a8b320-45fe-4136-bbda-00868fb4bbce"
      },
      "outputs": [
        {
          "name": "stdout",
          "output_type": "stream",
          "text": [
            "============= from 90 to 100 =============\n",
            "seed: 90, n_iter: 1000000, time: 988, valid: True\n"
          ]
        }
      ],
      "source": [
        "runALL(range(90,91), alpha = 0.1, n_iter = 1000000)"
      ]
    },
    {
      "cell_type": "code",
      "source": [
        "runALL(range(91,100), alpha = 0.1, n_iter = 1000000)"
      ],
      "metadata": {
        "colab": {
          "base_uri": "https://localhost:8080/"
        },
        "id": "hrrB44c5Exkc",
        "outputId": "9850a48d-08a9-4995-c9ee-efebf4564dec"
      },
      "execution_count": null,
      "outputs": [
        {
          "output_type": "stream",
          "name": "stdout",
          "text": [
            "seed: 91, n_iter: 1000000, time: 708, valid: True\n",
            "seed: 92, n_iter: 1000000, time: 711, valid: True\n",
            "seed: 93, n_iter: 1000000, time: 713, valid: True\n",
            "seed: 94, n_iter: 1000000, time: 717, valid: True\n",
            "seed: 95, n_iter: 1000000, time: 714, valid: True\n",
            "seed: 96, n_iter: 1000000, time: 717, valid: True\n",
            "seed: 97, n_iter: 1000000, time: 717, valid: True\n",
            "seed: 98, n_iter: 1000000, time: 724, valid: True\n",
            "seed: 99, n_iter: 1000000, time: 723, valid: True\n"
          ]
        }
      ]
    }
  ],
  "metadata": {
    "colab": {
      "collapsed_sections": [
        "NDlQGaGrla7_",
        "8Oyt5zFyHhQ_"
      ],
      "provenance": []
    },
    "kernelspec": {
      "display_name": "Python 3",
      "name": "python3"
    },
    "language_info": {
      "name": "python"
    }
  },
  "nbformat": 4,
  "nbformat_minor": 0
}